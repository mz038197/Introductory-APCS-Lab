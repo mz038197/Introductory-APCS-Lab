{
 "cells": [
  {
   "cell_type": "markdown",
   "metadata": {
    "id": "6y3umzRim0I1"
   },
   "source": [
    "## **實作題模擬測驗** (120 min)"
   ]
  },
  {
   "cell_type": "markdown",
   "metadata": {
    "id": "DdoR_UP5k6I2"
   },
   "source": [
    "### [f312. 1. 人力分配](https://zerojudge.tw/ShowProblem?problemid=f312)\n",
    "#### **題目說明：**\n",
    "#### 有一個公司有 n 個員工，還有兩個工廠。如果工廠一與工廠二分別有 X1 與 X2 個員工，兩個工廠的收益 Y1, Y2 分別會是\n",
    "\n",
    "*   Y1 = A1 * X1^2 + B1 * X1 + C1\n",
    "*   Y2 = A2 * X2^2 + B2 * X2 + C2\n",
    "\n",
    "#### 請你考慮所有分配員工的方式，找出收益最大的組合，輸出最大收益。\n",
    "#### 注意，每個員工皆需分配到其中一個工廠\n",
    "\n",
    "#### **輸入說明：**\n",
    "*   第一行有三個整數 A1, B1, C1\n",
    "*   第二行有三個整數 A2, B2, C2\n",
    "*   第三行有一個正整數 n (1 <= n <= 100)\n",
    "\n",
    "#### **輸出說明：**\n",
    "*   輸出最大收益\n",
    "\n",
    "```python\n",
    "Sample Input #1 :\n",
    "2 -1 3\n",
    "4 -5 2\n",
    "2\n",
    "\n",
    "Sample Output #1 :\n",
    "11\n",
    "```"
   ]
  },
  {
   "cell_type": "code",
   "execution_count": null,
   "metadata": {
    "colab": {
     "base_uri": "https://localhost:8080/"
    },
    "deletable": false,
    "id": "a96078ca",
    "nbgrader": {
     "cell_type": "code",
     "checksum": "6210402ac8549d2a1394778ca7cff3fa",
     "grade": false,
     "grade_id": "cell-0a4b5c0fa9268573",
     "locked": false,
     "schema_version": 3,
     "solution": true,
     "task": false
    },
    "outputId": "3b395458-f174-4ca8-96e9-fa4616767778"
   },
   "outputs": [],
   "source": [
    "# YOUR CODE HERE\n"
   ]
  },
  {
   "cell_type": "markdown",
   "metadata": {
    "id": "_QmQ-SIkn1zM"
   },
   "source": [
    "<br>"
   ]
  },
  {
   "cell_type": "markdown",
   "metadata": {
    "id": "BhjrRCSxn6WS"
   },
   "source": [
    "### [f313. 2. 人口遷移](https://zerojudge.tw/ShowProblem?problemid=f313)\n",
    "#### **題目說明：**\n",
    "####  R X C 的平面上有一些城市，每天每個城市會向每個它相鄰的城市遷移 人數/K 個人 (整數除法，無條件捨去)，請模擬出 m 天之後的結果，輸出人數最少及最多的城市人數。\n",
    "#### 城市人數若為 -1 則代表該位置並非城市，不能由任何城市遷移至此。\n",
    "\n",
    "#### 下圖是第一筆範例測資模擬的結果\n",
    "![ShowImage (1).png](data:image/png;base64,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)\n",
    "\n",
    "\n",
    "#### **輸入說明：**\n",
    "*   輸入的第一行包含四個正整數 R, C, k, m\n",
    "* 接下來包含 R 行，每行包含 C 個整數，對於第 i 行的第 j 個整數 aij ( -1 <= aij <= 100 )，如果是 -1 表示這個座標沒有城市，否則表示這個座標的城市人數數量，保證是非負整數\n",
    "\n",
    "#### **輸出說明：**\n",
    "* 第一行，輸出在 m 天之後，人數最少的城市的人數。\n",
    "* 第二行，輸出在 m 天之後，人數最多的城市的人數\n",
    "\n",
    "```python\n",
    "Sample Input #1 :\n",
    "2 3 4 1\n",
    "10 2 -1\n",
    "5 -1 2\n",
    "\n",
    "Sample Output #1 :\n",
    "2\n",
    "7\n",
    "```"
   ]
  },
  {
   "cell_type": "code",
   "execution_count": null,
   "metadata": {
    "colab": {
     "base_uri": "https://localhost:8080/",
     "height": 339
    },
    "deletable": false,
    "id": "71bc7bc5",
    "nbgrader": {
     "cell_type": "code",
     "checksum": "dcf2bb72c7e52f4880c339503a9e59cc",
     "grade": false,
     "grade_id": "cell-09c0d5065b2d2941",
     "locked": false,
     "schema_version": 3,
     "solution": true,
     "task": false
    },
    "outputId": "f830d677-464e-46db-8427-e9c11ea7d285"
   },
   "outputs": [],
   "source": [
    "# YOUR CODE HERE\n"
   ]
  },
  {
   "cell_type": "markdown",
   "metadata": {
    "id": "gp3MO-6Sq1Jy"
   },
   "source": [
    "<br>"
   ]
  },
  {
   "cell_type": "markdown",
   "metadata": {
    "id": "uGp195Jap8BA"
   },
   "source": [
    "### [h081. 1. 程式交易](https://zerojudge.tw/ShowProblem?problemid=h081)\n",
    "#### **題目說明：**\n",
    "#### 小明最近想要用程式做股票交易，給一個股票的歷史價格\n",
    "#### a[1], a[2], ...a[n] 他的投資策略如下\n",
    "\n",
    "\n",
    "1.   同一個時間最多只會持有一張股票, 並會在時間點 1 花 a[1] 買進\n",
    "2.   若當下持有股票且該股票買進價格為 x，當遇到價格 y 大於等於 x + D 時即賣出，並轉得利潤 y - x。\n",
    "3. 若當下沒有持有股票且上一次的賣出價格為 x，當遇到價格 y 小於等於 x - D 時則會買進股票。\n",
    "\n",
    "#### 輸出依照上述規則買賣後所得到的利潤和，若交易結束仍持有股票，則不考慮該股票買進的成本，直接無視該股票即可。\n",
    "\n",
    "\n",
    "#### **輸入說明:**\n",
    "* 第一行輸入兩個正整數 n，D, 接下來有 n 個正整數，代表每個時間點股票的價格\n",
    "\n",
    "#### **輸出說明:**\n",
    "* 輸出一個正整數，代表總利潤\n",
    "\n",
    "```python\n",
    "Sample Input #1 :\n",
    "3 10\n",
    "50 20 45\n",
    "\n",
    "Sample Output #1 :\n",
    "0\n",
    "```\n",
    "```python\n",
    "Sample Input #2 :\n",
    "6 10\n",
    "30 20 45 38 10 20\n",
    "\n",
    "Sample Output #2 :\n",
    "25\n",
    "```"
   ]
  },
  {
   "cell_type": "code",
   "execution_count": null,
   "metadata": {
    "colab": {
     "base_uri": "https://localhost:8080/",
     "height": 373
    },
    "deletable": false,
    "id": "ItukudegrDjg",
    "nbgrader": {
     "cell_type": "code",
     "checksum": "d1a631513aab349f8ab669720a086951",
     "grade": false,
     "grade_id": "cell-94a899d60bc67da1",
     "locked": false,
     "schema_version": 3,
     "solution": true,
     "task": false
    },
    "outputId": "c6116cc7-9805-48a4-b4d1-ebfa59e65d09"
   },
   "outputs": [],
   "source": [
    "# YOUR CODE HERE\n"
   ]
  },
  {
   "cell_type": "markdown",
   "metadata": {
    "id": "vqPkBBzrvLvL"
   },
   "source": [
    "<br>"
   ]
  },
  {
   "cell_type": "markdown",
   "metadata": {
    "id": "5gTt9BDUvMOk"
   },
   "source": [
    "### [i400. 2. 字串解碼](https://zerojudge.tw/ShowProblem?problemid=i400)\n",
    "#### **題目說明：**\n",
    "#### 有一個字串加密系統，對於一個長度為 n 的字串 S 和一個長度為 n 01 字串 e，會產生一個加密過後的字串 T，其中加密流程為以下兩個步驟：\n",
    "\n",
    "\n",
    "1.   如果字串 e 中 1 的出現次數是偶數，則直接進第二步驟，出現次數是奇數則將字串 S 平分成兩等份，兩份順序交換後再接起來，如果字串長度是奇數，則最中間的字元不動位置\n",
    "2.   讓 i 從 1 到 n 迭代，如果 e[i] = 0 就將 S 的第一個字元切掉並接到字串 T 的最後一個字元，如果 e[i] = 1 就將 S 的最後一個字元切掉並接到字串 T 的最後一個字元\n",
    "\n",
    "#### 以範例 1 為例，e 陣列為 10110，其中 1 出現的次數為奇數，因此需要交換字串 S 從 BCAAD 變為 ADABC。接下來執行第二階段，其中過程如下。\n",
    "\n",
    "\n",
    "\n",
    "\n",
    "#### 給由 m 個 01 字串的加密表和按照順序加密原字串後得到加密過後的字串，請嘗試還原出原本的字串。\n",
    "\n",
    "#### **輸入說明:**\n",
    "* 第一行輸入兩個數字 m, n，接下來有 m 個長度為 n 的 01 字串，最後輸入一個長度為 n 的加密字串, 字串均由大寫字母組成。\n",
    "\n",
    "#### **輸出說明:**\n",
    "* 輸出解密後的字串。\n",
    "\n",
    "\n",
    "```python\n",
    "Sample Input #1 :\n",
    "1 5\n",
    "10110\n",
    "CABAD\n",
    "\n",
    "Sample Output #1 :\n",
    "BCAAD\n",
    "```\n",
    "```python\n",
    "Sample Input #2 :\n",
    "3 6\n",
    "111110\n",
    "101101\n",
    "000000\n",
    "RETYWQ\n",
    "\n",
    "Sample Output #2 :\n",
    "QWERTY\n",
    "```"
   ]
  },
  {
   "cell_type": "code",
   "execution_count": null,
   "metadata": {
    "deletable": false,
    "id": "LTJgCmiqvgJ7",
    "nbgrader": {
     "cell_type": "code",
     "checksum": "adee6a725b940d88aa72cae93ea366e2",
     "grade": false,
     "grade_id": "cell-01e2e9b433c03b43",
     "locked": false,
     "schema_version": 3,
     "solution": true,
     "task": false
    }
   },
   "outputs": [],
   "source": [
    "# YOUR CODE HERE\n"
   ]
  },
  {
   "cell_type": "markdown",
   "metadata": {
    "id": "6dVjLxikwsV9"
   },
   "source": [
    "<br>"
   ]
  }
 ],
 "metadata": {
  "colab": {
   "provenance": [],
   "toc_visible": true
  },
  "kernelspec": {
   "display_name": "Python 3 (ipykernel)",
   "language": "python",
   "name": "python3"
  },
  "language_info": {
   "codemirror_mode": {
    "name": "ipython",
    "version": 3
   },
   "file_extension": ".py",
   "mimetype": "text/x-python",
   "name": "python",
   "nbconvert_exporter": "python",
   "pygments_lexer": "ipython3",
   "version": "3.13.0"
  }
 },
 "nbformat": 4,
 "nbformat_minor": 4
}
