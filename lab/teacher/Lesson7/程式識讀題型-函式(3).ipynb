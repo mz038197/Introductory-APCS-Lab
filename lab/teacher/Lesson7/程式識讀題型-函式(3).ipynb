{
 "cells": [
  {
   "cell_type": "markdown",
   "metadata": {
    "id": "2pLkBhE_ZYr4"
   },
   "source": [
    "## **CH3 函式** (80 min)\n",
    "### 只能用大腦計算程式碼片段的方式演算\n",
    "\n",
    "### **題型主要包含:**\n",
    "*   多層次的函式呼叫\n",
    "*   堆疊先後關係的函式呼叫\n",
    "*   值域問題"
   ]
  },
  {
   "cell_type": "markdown",
   "metadata": {
    "id": "dzUSxp15IHrA"
   },
   "source": [
    "<br>"
   ]
  },
  {
   "cell_type": "markdown",
   "metadata": {
    "id": "ylle23X6Ek2Q"
   },
   "source": [
    "### **3-1 多層次的函式呼叫**\n",
    "\n",
    "\n"
   ]
  },
  {
   "cell_type": "code",
   "execution_count": null,
   "metadata": {},
   "outputs": [
    {
     "data": {
      "text/markdown": [
       "#### f1, f2 為兩個互相呼叫的函式，現在於 f1, f2 之中加入兩個輸出，請問當呼叫 f1(5) 時，輸出結果為何?"
      ],
      "text/plain": [
       "<IPython.core.display.Markdown object>"
      ]
     },
     "metadata": {},
     "output_type": "display_data"
    },
    {
     "data": {
      "text/markdown": [
       "```python\n",
       "def f2(x):\n",
       "    if x <= 0:\n",
       "        return\n",
       "    f1(x - 1)\n",
       "    print(x)\n",
       "\n",
       "def f1(x):\n",
       "    if x <= 0:\n",
       "        return\n",
       "    print(x)\n",
       "    f2(x - 1)\n",
       "```"
      ],
      "text/plain": [
       "<IPython.core.display.Markdown object>"
      ]
     },
     "metadata": {},
     "output_type": "display_data"
    },
    {
     "data": {
      "application/vnd.jupyter.widget-view+json": {
       "model_id": "fb4319f6472f4f668a08a3eaa1627d14",
       "version_major": 2,
       "version_minor": 0
      },
      "text/plain": [
       "RadioButtons(description='答案：', options=('A. 5 4 3 2 1', 'B. 5 3 1 2 4', 'C. 5 3 2 1 4', 'D. 5 1 2 3 4'), valu…"
      ]
     },
     "metadata": {},
     "output_type": "display_data"
    },
    {
     "data": {
      "application/vnd.jupyter.widget-view+json": {
       "model_id": "285abddf2bb444f3b0c675b61b290f01",
       "version_major": 2,
       "version_minor": 0
      },
      "text/plain": [
       "Button(button_style='primary', description='提交', style=ButtonStyle())"
      ]
     },
     "metadata": {},
     "output_type": "display_data"
    },
    {
     "data": {
      "application/vnd.jupyter.widget-view+json": {
       "model_id": "80b7a46ef8ed4835be1b5b0f604a35b3",
       "version_major": 2,
       "version_minor": 0
      },
      "text/plain": [
       "Output()"
      ]
     },
     "metadata": {},
     "output_type": "display_data"
    }
   ],
   "source": [
    "#@title **例題**\n",
    "import ipywidgets as widgets\n",
    "from IPython.display import display, clear_output, Markdown\n",
    "\n",
    "def question2():\n",
    "    #print(\"監督式學習是指我們在每個訓練範例中,\\n給演算法正確答案 𝑦 讓它可以從中學習。\\n以下哪一項是監督式學習的例子?\")\n",
    "    display(Markdown(\"#### f1, f2 為兩個互相呼叫的函式，現在於 f1, f2 之中加入兩個輸出，請問當呼叫 f1(5) 時，輸出結果為何?\"))\n",
    "    display(Markdown(\n",
    "        \"```python\\n\"\n",
    "        \"def f2(x):\\n\"\n",
    "        \"    if x <= 0:\\n\"\n",
    "        \"        return\\n\"\n",
    "        \"    f1(x - 1)\\n\"\n",
    "        \"    print(x)\\n\\n\"\n",
    "        \"def f1(x):\\n\"\n",
    "        \"    if x <= 0:\\n\"\n",
    "        \"        return\\n\"\n",
    "        \"    print(x)\\n\"\n",
    "        \"    f2(x - 1)\\n\"\n",
    "        \"```\"\n",
    "    ))\n",
    "  # 建立元件（每次跑 cell 都新建，避免殘留）\n",
    "    choices = widgets.RadioButtons(\n",
    "        options=['A. 5 4 3 2 1', 'B. 5 3 1 2 4', 'C. 5 3 2 1 4', 'D. 5 1 2 3 4'],\n",
    "        description='答案：',\n",
    "        disabled=False\n",
    "    )\n",
    "    submit = widgets.Button(description='提交', button_style='primary')\n",
    "    output = widgets.Output()\n",
    "\n",
    "    def on_submit(_):\n",
    "        with output:\n",
    "            clear_output()\n",
    "            val = choices.value\n",
    "            if val.startswith('B'):\n",
    "                print('✅ 正確！')\n",
    "            else:\n",
    "                print('❌ 再試試看～')\n",
    "\n",
    "    # 綁定事件（避免重複掛，可以先移除舊的 handler）\n",
    "    try:\n",
    "        submit.on_click(on_submit, remove=True)  # ipywidgets 8 支援 remove 參數\n",
    "    except TypeError:\n",
    "        # 若版本不支援 remove，就略過，因為我們每次都新建元件\n",
    "        pass\n",
    "    submit.on_click(on_submit)\n",
    "\n",
    "    display(choices, submit, output)\n",
    "\n",
    "question2()"
   ]
  },
  {
   "cell_type": "markdown",
   "metadata": {
    "id": "G59MBqdko34O"
   },
   "source": [
    "#### **程式碼分析**\n",
    "* 閱讀程式碼可以發現在 f2() 中還會呼叫 f1()，f1() 中還會呼叫 f2()，屬於多層次的函式呼叫\n",
    "* 此類型的題型可以直接代入計算，需要注意程式碼凍結（呼叫另一個函式）和 print() 輸出的位置\n",
    "* return 可以不寫任何回傳值，僅代表結束這個函式的執行。"
   ]
  },
  {
   "cell_type": "markdown",
   "metadata": {
    "id": "A8VLVL_IQO-g"
   },
   "source": [
    "#### **演算過程**\n",
    "\n",
    "```python\n",
    "f1(5) ⇒ 輸出 5\n",
    "f2(5-1) ⇒ f2(4) ⇒ f1(4-1) ⇒ f1(3) ⇒ 輸出 3\n",
    "f2(3-1) ⇒ f2(2) ⇒ f1(2-1) ⇒ f1(1) ⇒ 輸出 1\n",
    "f2(1-1) ⇒ f2(0) ⇒ return\n",
    "\n",
    "return to f2(2) ⇒ 輸出 2 ⇒ f2(2) 的函式執行完畢\n",
    "return to f1(3) ⇒ f2(4) ⇒ 輸出 4 ⇒ f2(4) 的函式執行完畢\n",
    "return to f1(5) ⇒ f1(5) 的函式執行完畢\n",
    "```\n",
    "\n",
    "\n"
   ]
  },
  {
   "cell_type": "markdown",
   "metadata": {
    "id": "22rJa3UA2Ab5"
   },
   "source": [
    "<br>\n",
    "\n",
    "\n",
    "\n",
    "\n",
    "\n"
   ]
  },
  {
   "cell_type": "markdown",
   "metadata": {
    "id": "e0XO14k7T1Xe"
   },
   "source": [
    "### **3-2 堆疊先後關係的函式呼叫**\n"
   ]
  },
  {
   "cell_type": "code",
   "execution_count": 15,
   "metadata": {},
   "outputs": [
    {
     "data": {
      "text/markdown": [
       "#### 執行下列程式後，請問輸出結果為何?"
      ],
      "text/plain": [
       "<IPython.core.display.Markdown object>"
      ]
     },
     "metadata": {},
     "output_type": "display_data"
    },
    {
     "data": {
      "text/markdown": [
       "```python\n",
       "def f(a):\n",
       "    return a*(-1)\n",
       "def g(a, b):\n",
       "    return a + 2*b\n",
       "\n",
       "out_a, out_b = 1, 1\n",
       "if not f(g(out_b, out_a)):\n",
       "    out_a = 1\n",
       "else:\n",
       "    out_b = 1\n",
       "if out_b == 1:\n",
       "    out_a = 3\n",
       "else:\n",
       "    out_b = 3\n",
       "print(out_a, out_b)\n",
       "```"
      ],
      "text/plain": [
       "<IPython.core.display.Markdown object>"
      ]
     },
     "metadata": {},
     "output_type": "display_data"
    },
    {
     "data": {
      "application/vnd.jupyter.widget-view+json": {
       "model_id": "53f454d6a9304d528fb3e4228a094509",
       "version_major": 2,
       "version_minor": 0
      },
      "text/plain": [
       "RadioButtons(description='答案：', options=('A. 1 1', 'B. 2 1', 'C. 1 3', 'D. 3 1'), value='A. 1 1')"
      ]
     },
     "metadata": {},
     "output_type": "display_data"
    },
    {
     "data": {
      "application/vnd.jupyter.widget-view+json": {
       "model_id": "e769ba6951ff489da4b5722af6434b4d",
       "version_major": 2,
       "version_minor": 0
      },
      "text/plain": [
       "Button(button_style='primary', description='提交', style=ButtonStyle())"
      ]
     },
     "metadata": {},
     "output_type": "display_data"
    },
    {
     "data": {
      "application/vnd.jupyter.widget-view+json": {
       "model_id": "4a78122caa064d8aaa7103f3d0cde58b",
       "version_major": 2,
       "version_minor": 0
      },
      "text/plain": [
       "Output()"
      ]
     },
     "metadata": {},
     "output_type": "display_data"
    }
   ],
   "source": [
    "#@title **例題**\n",
    "import ipywidgets as widgets\n",
    "from IPython.display import display, clear_output, Markdown\n",
    "\n",
    "def question2():\n",
    "    #print(\"監督式學習是指我們在每個訓練範例中,\\n給演算法正確答案 𝑦 讓它可以從中學習。\\n以下哪一項是監督式學習的例子?\")\n",
    "    display(Markdown(\"#### 執行下列程式後，請問輸出結果為何?\"))\n",
    "    display(Markdown(\n",
    "        \"```python\\n\"\n",
    "        \"def f(a):\\n\"\n",
    "        \"    return a*(-1)\\n\"\n",
    "        \"def g(a, b):\\n\"\n",
    "        \"    return a + 2*b\\n\\n\"\n",
    "        \"out_a, out_b = 1, 1\\n\"\n",
    "        \"if not f(g(out_b, out_a)):\\n\"\n",
    "        \"    out_a = 1\\n\"\n",
    "        \"else:\\n\"\n",
    "        \"    out_b = 1\\n\"\n",
    "        \"if out_b == 1:\\n\"\n",
    "        \"    out_a = 3\\n\"\n",
    "        \"else:\\n\"\n",
    "        \"    out_b = 3\\n\"\n",
    "        \"print(out_a, out_b)\\n\"\n",
    "        \"```\"\n",
    "    ))\n",
    "  # 建立元件（每次跑 cell 都新建，避免殘留）\n",
    "    choices = widgets.RadioButtons(\n",
    "        options=['A. 1 1', 'B. 2 1', 'C. 1 3', 'D. 3 1'],\n",
    "        description='答案：',\n",
    "        disabled=False\n",
    "    )\n",
    "    submit = widgets.Button(description='提交', button_style='primary')\n",
    "    output = widgets.Output()\n",
    "\n",
    "    def on_submit(_):\n",
    "        with output:\n",
    "            clear_output()\n",
    "            val = choices.value\n",
    "            if val.startswith('D'):\n",
    "                print('✅ 正確！')\n",
    "            else:\n",
    "                print('❌ 再試試看～')\n",
    "\n",
    "    # 綁定事件（避免重複掛，可以先移除舊的 handler）\n",
    "    try:\n",
    "        submit.on_click(on_submit, remove=True)  # ipywidgets 8 支援 remove 參數\n",
    "    except TypeError:\n",
    "        # 若版本不支援 remove，就略過，因為我們每次都新建元件\n",
    "        pass\n",
    "    submit.on_click(on_submit)\n",
    "\n",
    "    display(choices, submit, output)\n",
    "\n",
    "question2()"
   ]
  },
  {
   "cell_type": "markdown",
   "metadata": {
    "id": "o1XTWZHFe9uY"
   },
   "source": [
    "#### **程式碼分析**\n",
    "* 函式呼叫中還有函式呼叫，需要注意呼叫的先後順序，必須先從內部的函式呼叫開始處理\n",
    "* 以此題的函式呼叫來說，必須先處理 g(out_b, out_a)\n",
    "* 再將 return 的結果代入到 f() 之中\n",
    "* 最後還要加上一個 not 邏輯判斷\n"
   ]
  },
  {
   "cell_type": "markdown",
   "metadata": {
    "id": "beRo97GRV1X6"
   },
   "source": [
    "#### **演算過程**\n",
    "#### 從最內層的 () 開始計算：\n",
    "\n",
    "```python\n",
    "g(out_b, out_a) ⇒ 1+2 = 3\n",
    "f(g函式的計算結果) ⇒ 3*(-1) = -3\n",
    "not (f函式的結果) ⇒ if not -3 (若 x = 0 為 true, 若 x!=0 為 false（無論是正整數或負整數）)\n",
    "```\n",
    "\n",
    "(D) 3 1\n"
   ]
  },
  {
   "cell_type": "markdown",
   "metadata": {
    "id": "O9PfLAvTXDZi"
   },
   "source": [
    "<br>"
   ]
  },
  {
   "cell_type": "markdown",
   "metadata": {
    "id": "LZOlMh-vZ405"
   },
   "source": [
    "### **3-3 值域問題**\n",
    "\n"
   ]
  },
  {
   "cell_type": "code",
   "execution_count": 16,
   "metadata": {},
   "outputs": [
    {
     "data": {
      "text/markdown": [
       "#### 執行下列程式後，請問輸出結果為何?"
      ],
      "text/plain": [
       "<IPython.core.display.Markdown object>"
      ]
     },
     "metadata": {},
     "output_type": "display_data"
    },
    {
     "data": {
      "text/markdown": [
       "```python\n",
       "a, b = 5, 3\n",
       "\n",
       "def f(a, b):\n",
       "    c = a + b\n",
       "\n",
       "def g(a, b):\n",
       "    a = a + b\n",
       "    b = a - b\n",
       "    c = a + b\n",
       "    return c\n",
       "\n",
       "b = 7\n",
       "c = g(a, b)\n",
       "f(a, b)\n",
       "a = 3\n",
       "\n",
       "print(a, b, c)\n",
       "```"
      ],
      "text/plain": [
       "<IPython.core.display.Markdown object>"
      ]
     },
     "metadata": {},
     "output_type": "display_data"
    },
    {
     "data": {
      "application/vnd.jupyter.widget-view+json": {
       "model_id": "cc887126b8f94354bd3cb39ca3e0d8e3",
       "version_major": 2,
       "version_minor": 0
      },
      "text/plain": [
       "RadioButtons(description='答案：', options=('A. 3 7 17', 'B. 5 7 17', 'C. 3 3 17', 'D. 3 7 8'), value='A. 3 7 17'…"
      ]
     },
     "metadata": {},
     "output_type": "display_data"
    },
    {
     "data": {
      "application/vnd.jupyter.widget-view+json": {
       "model_id": "fb709e153b304b6aa6a786f849a3b5d7",
       "version_major": 2,
       "version_minor": 0
      },
      "text/plain": [
       "Button(button_style='primary', description='提交', style=ButtonStyle())"
      ]
     },
     "metadata": {},
     "output_type": "display_data"
    },
    {
     "data": {
      "application/vnd.jupyter.widget-view+json": {
       "model_id": "9dd5db9d27cc4c2b9e0148cb0c457507",
       "version_major": 2,
       "version_minor": 0
      },
      "text/plain": [
       "Output()"
      ]
     },
     "metadata": {},
     "output_type": "display_data"
    }
   ],
   "source": [
    "#@title **例題**\n",
    "import ipywidgets as widgets\n",
    "from IPython.display import display, clear_output, Markdown\n",
    "\n",
    "def question2():\n",
    "    #print(\"監督式學習是指我們在每個訓練範例中,\\n給演算法正確答案 𝑦 讓它可以從中學習。\\n以下哪一項是監督式學習的例子?\")\n",
    "    display(Markdown(\"#### 執行下列程式後，請問輸出結果為何?\"))\n",
    "    display(Markdown(\n",
    "        \"```python\\n\"\n",
    "        \"a, b = 5, 3\\n\\n\"\n",
    "        \"def f(a, b):\\n\"\n",
    "        \"    c = a + b\\n\\n\"\n",
    "        \"def g(a, b):\\n\"\n",
    "        \"    a = a + b\\n\"\n",
    "        \"    b = a - b\\n\"\n",
    "        \"    c = a + b\\n\"\n",
    "        \"    return c\\n\\n\"\n",
    "        \"b = 7\\n\"\n",
    "        \"c = g(a, b)\\n\"\n",
    "        \"f(a, b)\\n\"\n",
    "        \"a = 3\\n\\n\"\n",
    "        \"print(a, b, c)\\n\"\n",
    "        \"```\"\n",
    "    ))\n",
    "  # 建立元件（每次跑 cell 都新建，避免殘留）\n",
    "    choices = widgets.RadioButtons(\n",
    "        options=['A. 3 7 17', 'B. 5 7 17', 'C. 3 3 17', 'D. 3 7 8'],\n",
    "        description='答案：',\n",
    "        disabled=False\n",
    "    )\n",
    "    submit = widgets.Button(description='提交', button_style='primary')\n",
    "    output = widgets.Output()\n",
    "\n",
    "    def on_submit(_):\n",
    "        with output:\n",
    "            clear_output()\n",
    "            val = choices.value\n",
    "            if val.startswith('A'):\n",
    "                print('✅ 正確！')\n",
    "            else:\n",
    "                print('❌ 再試試看～')\n",
    "\n",
    "    # 綁定事件（避免重複掛，可以先移除舊的 handler）\n",
    "    try:\n",
    "        submit.on_click(on_submit, remove=True)  # ipywidgets 8 支援 remove 參數\n",
    "    except TypeError:\n",
    "        # 若版本不支援 remove，就略過，因為我們每次都新建元件\n",
    "        pass\n",
    "    submit.on_click(on_submit)\n",
    "\n",
    "    display(choices, submit, output)\n",
    "\n",
    "question2()"
   ]
  },
  {
   "cell_type": "markdown",
   "metadata": {
    "id": "4tvheBcZdQ2x"
   },
   "source": [
    "#### **例題**\n",
    "#### 右側程式執行後，請問輸出的結果為何？\n",
    "\n",
    "```python\n",
    "a, b = 5, 3\n",
    "\n",
    "def f(a, b):\n",
    "    c = a+b\n",
    "def g(a, b):\n",
    "    a = a+b\n",
    "    b = a-b\n",
    "    c = a+b\n",
    "    return c\n",
    "b = 7\n",
    "c = g(a, b)\n",
    "f(a, b)\n",
    "a = 3\n",
    "\n",
    "print(a, b, c)\n",
    "```\n",
    "\n",
    "*   (A) 3 7 17\n",
    "*   (B) 5 7 17\n",
    "*   (C) 3 3 17\n",
    "*   (D) 3 7 8"
   ]
  },
  {
   "cell_type": "markdown",
   "metadata": {
    "id": "rAfWrsoRFoA5"
   },
   "source": [
    "#### **程式碼分析**\n",
    "* 這段程式碼中有許多重複使用的變數名稱（a, b, c）。\n",
    "* 但是這些變數會因為作用區域的不同，而有不同的效果。\n",
    "* 綠色 a, b, c 代表在整段程式碼中都存取相同的變數\n"
   ]
  },
  {
   "cell_type": "markdown",
   "metadata": {
    "id": "wJCUpCxNGJnK"
   },
   "source": [
    "#### **演算過程**\n",
    "\n",
    "* #數字代表程式執行順序和更新後的變數值\n",
    "* 綠色部分代表全域變數\n",
    "* 紅色部分代表區域變數（函式內）\n",
    "* 未列出來的部分則不影響結果\n",
    "\n",
    "```python\n",
    "a, b = 5, 3 #全域變數\n",
    "\n",
    "def f(a, b):\n",
    "    c = a+b #區域變數\n",
    "\n",
    "def g(a, b): #2 a=5, b=7  #區域變數\n",
    "    a = a+b  #3 a=12, b=7 #區域變數\n",
    "    b = a-b  #4 a=12, b=5 #區域變數\n",
    "    c = a+b  #5 a=12, b=5, c=17 #區域變數\n",
    "    return c #6 c=17 #區域變數\n",
    "\n",
    "b = 7\n",
    "c = g(a, b)　#1 a=5, b=7, c=17\n",
    "f(a, b)      #7 不影響結果\n",
    "a = 3\n",
    "\n",
    "print(a, b, c) #8 3, 7, 17\n",
    "```\n",
    "\n",
    "(A) 3 7 17\n",
    "\n"
   ]
  },
  {
   "cell_type": "markdown",
   "metadata": {
    "id": "LXHLuSqmt0_N"
   },
   "source": [
    "#### **區域變數vs全域變數**\n",
    "\n",
    "\n",
    "*   若函式中有「讀取」變數，未定義於函式中，但在函式外有相同的變數名稱，則此時會取用這個變數值進行運算\n",
    "*   例如右側程式碼的變數 b\n",
    "\n",
    "```python\n",
    "a, b = 5, 3\n",
    "\n",
    "def f(a):\n",
    "    c = a+b # <---\n",
    "\n",
    "b = 7\n",
    "f(a)\n",
    "a = 3\n",
    "\n",
    "print(a, b)\n",
    "```\n",
    "\n",
    "*   若函式中有定義一個變數並且賦值，則為區域變數\n",
    "*   若區域變數已定義但未賦值，則會發生區域變數的存取錯誤，無法取用相同名稱的全域變數值\n"
   ]
  },
  {
   "cell_type": "code",
   "execution_count": 1,
   "metadata": {
    "colab": {
     "base_uri": "https://localhost:8080/",
     "height": 332
    },
    "executionInfo": {
     "elapsed": 30,
     "status": "error",
     "timestamp": 1756721003821,
     "user": {
      "displayName": "Vans Tsai",
      "userId": "16341679271385240767"
     },
     "user_tz": -480
    },
    "id": "1Zt-YJEUuwEB",
    "outputId": "ae8ff8ea-f9ae-4537-ad02-f27ad35ac7ff"
   },
   "outputs": [
    {
     "ename": "UnboundLocalError",
     "evalue": "cannot access local variable 'b' where it is not associated with a value",
     "output_type": "error",
     "traceback": [
      "\u001b[31m---------------------------------------------------------------------------\u001b[39m",
      "\u001b[31mUnboundLocalError\u001b[39m                         Traceback (most recent call last)",
      "\u001b[36mCell\u001b[39m\u001b[36m \u001b[39m\u001b[32mIn[1]\u001b[39m\u001b[32m, line 7\u001b[39m\n\u001b[32m      4\u001b[39m     b = a+b+\u001b[32m1\u001b[39m\n\u001b[32m      6\u001b[39m b = \u001b[32m7\u001b[39m\n\u001b[32m----> \u001b[39m\u001b[32m7\u001b[39m \u001b[43mf\u001b[49m\u001b[43m(\u001b[49m\u001b[43ma\u001b[49m\u001b[43m)\u001b[49m\n\u001b[32m      8\u001b[39m a = \u001b[32m3\u001b[39m\n\u001b[32m     10\u001b[39m \u001b[38;5;28mprint\u001b[39m(a, b)\n",
      "\u001b[36mCell\u001b[39m\u001b[36m \u001b[39m\u001b[32mIn[1]\u001b[39m\u001b[32m, line 4\u001b[39m, in \u001b[36mf\u001b[39m\u001b[34m(a)\u001b[39m\n\u001b[32m      3\u001b[39m \u001b[38;5;28;01mdef\u001b[39;00m\u001b[38;5;250m \u001b[39m\u001b[34mf\u001b[39m(a):\n\u001b[32m----> \u001b[39m\u001b[32m4\u001b[39m     b = a+\u001b[43mb\u001b[49m+\u001b[32m1\u001b[39m\n",
      "\u001b[31mUnboundLocalError\u001b[39m: cannot access local variable 'b' where it is not associated with a value"
     ]
    }
   ],
   "source": [
    "a, b = 5, 3\n",
    "\n",
    "def f(a):\n",
    "    b = a+b+1\n",
    "\n",
    "b = 7\n",
    "f(a)\n",
    "a = 3\n",
    "\n",
    "print(a, b)"
   ]
  },
  {
   "cell_type": "markdown",
   "metadata": {
    "id": "7LGMhbf7gPQg"
   },
   "source": [
    "<br>"
   ]
  },
  {
   "cell_type": "markdown",
   "metadata": {
    "id": "LW5TWLosYiiG"
   },
   "source": [
    "<br>"
   ]
  }
 ],
 "metadata": {
  "colab": {
   "authorship_tag": "ABX9TyOF8EfTeLnxXm+AtutbwCoW",
   "collapsed_sections": [
    "kXyxsNvwqAzZ"
   ],
   "provenance": [],
   "toc_visible": true
  },
  "kernelspec": {
   "display_name": ".venv",
   "language": "python",
   "name": "python3"
  },
  "language_info": {
   "codemirror_mode": {
    "name": "ipython",
    "version": 3
   },
   "file_extension": ".py",
   "mimetype": "text/x-python",
   "name": "python",
   "nbconvert_exporter": "python",
   "pygments_lexer": "ipython3",
   "version": "3.13.0"
  }
 },
 "nbformat": 4,
 "nbformat_minor": 0
}
