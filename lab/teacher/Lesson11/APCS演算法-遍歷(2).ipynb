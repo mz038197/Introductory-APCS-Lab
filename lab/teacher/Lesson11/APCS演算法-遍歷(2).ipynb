{
  "nbformat": 4,
  "nbformat_minor": 0,
  "metadata": {
    "colab": {
      "provenance": [],
      "toc_visible": true,
      "gpuType": "T4"
    },
    "kernelspec": {
      "name": "python3",
      "display_name": "Python 3"
    },
    "language_info": {
      "name": "python"
    }
  },
  "cells": [
    {
      "cell_type": "markdown",
      "source": [
        "## **APCS 演算法-遍歷(Traversal)**\n",
        "*   Trees\n",
        "*   Graphs\n",
        "\n",
        "### **Traversal V.S Searching**\n",
        "|項目|意義|意圖|\n",
        "|---|---|---|\n",
        "|Traversal|按照一定規則, 把每個節點走過一遍|確保每個節點都會被訪問一次|\n",
        "|Searching|帶著目標條件, 去找符合的節點|找到「我要的」節點，不必一定要把全部走完|\n",
        "\n",
        "### **種類:**\n",
        "* 廣度優先遍歷 (Breadth First Search)\n",
        "* 深度優先遍歷 (Depth First Search)\n",
        "\n",
        "### **你會如何選擇?**\n",
        "*   如果你知道解答離樹的根節點不會太遠\n",
        "*   如果這棵樹非常深，而且解答很少見\n",
        "*   如果這棵樹非常寬（也就是每個節點的分支數很多）。\n",
        "*   如果解答很多，但大多隱藏在樹的深處\n",
        "*   判斷在兩個節點之間是否存在一條路徑。\n",
        "*   找出最短路徑"
      ],
      "metadata": {
        "id": "_HAVn9G12HJ4"
      }
    },
    {
      "cell_type": "markdown",
      "source": [
        "## **二元搜尋樹的遍歷**"
      ],
      "metadata": {
        "id": "TZCdb2chdp1-"
      }
    },
    {
      "cell_type": "code",
      "source": [
        "class Node:\n",
        "  def __init__(self,data):\n",
        "    self.data = data\n",
        "    self.left = None\n",
        "    self.right = None\n",
        "\n",
        "class BinarySearchTree:\n",
        "\n",
        "  def __init__(self):\n",
        "    self.root = None\n",
        "\n",
        "  def insert(self, data):\n",
        "    new_node = Node(data)\n",
        "\n",
        "    if self.root == None:\n",
        "      self.root = new_node\n",
        "      return\n",
        "\n",
        "    curr_node = self.root\n",
        "    while True:\n",
        "      if data < curr_node.data:\n",
        "        #Left\n",
        "        if curr_node.left == None:\n",
        "          curr_node.left = new_node\n",
        "          return\n",
        "\n",
        "        curr_node = curr_node.left\n",
        "\n",
        "      elif data > curr_node.data:\n",
        "        #Right\n",
        "        if curr_node.right == None:\n",
        "          curr_node.right = new_node\n",
        "          return\n",
        "\n",
        "        curr_node = curr_node.right\n",
        "\n",
        "bst = BinarySearchTree()\n",
        "bst.insert(9)\n",
        "bst.insert(4)\n",
        "bst.insert(6)\n",
        "bst.insert(20)\n",
        "bst.insert(170)\n",
        "bst.insert(15)\n",
        "bst.insert(1)"
      ],
      "metadata": {
        "id": "xZKSQGvIKEII"
      },
      "execution_count": null,
      "outputs": []
    },
    {
      "cell_type": "markdown",
      "source": [
        "### **[廣度優先遍歷](https://www.youtube.com/watch?v=POpkdEdmlbU) (BFS)**\n",
        "\n",
        "```python\n",
        "          9\n",
        "      4      20\n",
        "    1   6  15   170  \n",
        "```\n",
        "\n",
        "### **順序:**\n",
        "9 -> 4 -> 20 -> 1 -> 6 -> 15 -> 170\n",
        "\n",
        "\n",
        "### **總結:**\n",
        "| Good | Bad |\n",
        "|---|---|\n",
        "|Shortest Path|More Memory|\n",
        "|Closer Nodes||\n",
        "\n",
        "### **實作**\n"
      ],
      "metadata": {
        "id": "wlNvY7KX5DIm"
      }
    },
    {
      "cell_type": "code",
      "source": [
        "class Node:\n",
        "  def __init__(self,data):\n",
        "    self.data = data\n",
        "    self.left = None\n",
        "    self.right = None\n",
        "\n",
        "class BinarySearchTree:\n",
        "\n",
        "  def __init__(self):\n",
        "    self.root = None\n",
        "\n",
        "  def insert(self, data):\n",
        "    new_node = Node(data)\n",
        "\n",
        "    if self.root == None:\n",
        "      self.root = new_node\n",
        "      return\n",
        "\n",
        "    curr_node = self.root\n",
        "    while True:\n",
        "      if data < curr_node.data:\n",
        "        #Left\n",
        "        if curr_node.left == None:\n",
        "          curr_node.left = new_node\n",
        "          return\n",
        "\n",
        "        curr_node = curr_node.left\n",
        "\n",
        "      elif data > curr_node.data:\n",
        "        #Right\n",
        "        if curr_node.right == None:\n",
        "          curr_node.right = new_node\n",
        "          return\n",
        "\n",
        "        curr_node = curr_node.right\n",
        "\n",
        "  def BFS(self):\n",
        "\n",
        "    if self.root == None:\n",
        "      return\n",
        "\n",
        "    data = []\n",
        "    queue = []\n",
        "    queue.append(self.root)\n",
        "\n",
        "    while len(queue) > 0:\n",
        "      curr_node = queue.pop(0)\n",
        "      data.append(curr_node.data)\n",
        "      if curr_node.left != None:\n",
        "        queue.append(curr_node.left)\n",
        "      if curr_node.right != None:\n",
        "        queue.append(curr_node.right)\n",
        "\n",
        "    return data\n",
        "\n",
        "\n",
        "\n",
        "bst = BinarySearchTree()\n",
        "bst.insert(9)\n",
        "bst.insert(4)\n",
        "bst.insert(6)\n",
        "bst.insert(20)\n",
        "bst.insert(170)\n",
        "bst.insert(15)\n",
        "bst.insert(1)\n",
        "print(bst.BFS())"
      ],
      "metadata": {
        "colab": {
          "base_uri": "https://localhost:8080/"
        },
        "id": "UMt34PJeK_AV",
        "outputId": "d084792b-b718-4543-aeb2-ebc3b4298e66"
      },
      "execution_count": null,
      "outputs": [
        {
          "output_type": "stream",
          "name": "stdout",
          "text": [
            "[9, 4, 20, 1, 6, 15, 170]\n"
          ]
        }
      ]
    },
    {
      "cell_type": "markdown",
      "source": [
        "<br>"
      ],
      "metadata": {
        "id": "1f7yrXwlNTlc"
      }
    },
    {
      "cell_type": "markdown",
      "source": [
        "### **[深度優先遍歷](https://www.youtube.com/watch?v=Sbciimd09h4) (DFS)**\n",
        "\n",
        "```python\n",
        "          9\n",
        "      4      20\n",
        "    1   6  15   170  \n",
        "```\n",
        "\n",
        "### **種類:**\n",
        "  * Inorder   = [1, 4, 6, 9, 15, 20, 170]\n",
        "  * Preorder  = [9, 4, 1, 6, 20, 15, 170]\n",
        "  * Postorder = []\n",
        "\n",
        "|類別|目的|\n",
        "|---|---|\n",
        "|Inorder|有序排列, 方便取最大值或最小值|\n",
        "|Preorder|順序與樹一致, 方便重建回二元樹|\n",
        "|Postorder||\n",
        "\n",
        "### 優缺點:\n",
        "|優點|缺點|\n",
        "|---|---|\n",
        "|Less Memory|Can Get Slow|\n",
        "|Does Path Exist||"
      ],
      "metadata": {
        "id": "lGRUhhhl6KYH"
      }
    },
    {
      "cell_type": "markdown",
      "source": [
        "<br>"
      ],
      "metadata": {
        "id": "x3w2U2l2zspQ"
      }
    },
    {
      "cell_type": "code",
      "execution_count": null,
      "metadata": {
        "id": "HcZek5mW0-M5"
      },
      "outputs": [],
      "source": [
        "class Node:\n",
        "  def __init__(self,data):\n",
        "    self.data = data\n",
        "    self.left = None\n",
        "    self.right = None\n",
        "\n",
        "class BinarySearchTree:\n",
        "\n",
        "  def __init__(self):\n",
        "    self.root = None\n",
        "\n",
        "  def insert(self, data):\n",
        "    new_node = Node(data)\n",
        "\n",
        "    if self.root == None:\n",
        "      self.root = new_node\n",
        "      return\n",
        "\n",
        "    curr_node = self.root\n",
        "    while True:\n",
        "      if data < curr_node.data:\n",
        "        #Left\n",
        "        if curr_node.left == None:\n",
        "          curr_node.left = new_node\n",
        "          return\n",
        "\n",
        "        curr_node = curr_node.left\n",
        "\n",
        "      elif data > curr_node.data:\n",
        "        #Right\n",
        "        if curr_node.right == None:\n",
        "          curr_node.right = new_node\n",
        "          return\n",
        "\n",
        "        curr_node = curr_node.right\n",
        "\n",
        "  def dfs_inorder(self):\n",
        "\n",
        "    if self.root == None:\n",
        "      return\n",
        "\n",
        "    data = []\n",
        "    queue = []\n",
        "    queue.append(self.root)\n",
        "\n",
        "    while len(queue) > 0:\n",
        "      curr_node = queue.pop(0)\n",
        "      data.append(curr_node.data)\n",
        "      if curr_node.left != None:\n",
        "        queue.append(curr_node.left)\n",
        "      if curr_node.right != None:\n",
        "        queue.append(curr_node.right)\n",
        "\n",
        "\n",
        "\n",
        "  def DFS_Postorder(self):\n",
        "\n",
        "    if self.root == None:\n",
        "      return\n",
        "\n",
        "    data = []\n",
        "    queue = []\n",
        "    queue.append(self.root)\n",
        "\n",
        "    while len(queue) > 0:\n",
        "      curr_node = queue.pop(0)\n",
        "      data.append(curr_node.data)\n",
        "      if curr_node.left != None:\n",
        "        queue.append(curr_node.left)\n",
        "      if curr_node.right != None:\n",
        "        queue.append(curr_node.right)\n",
        "\n",
        "    return data"
      ]
    },
    {
      "cell_type": "markdown",
      "source": [
        "<br>"
      ],
      "metadata": {
        "id": "F-J7uUkFVucL"
      }
    },
    {
      "cell_type": "markdown",
      "source": [
        "## **圖的遍歷**"
      ],
      "metadata": {
        "id": "QS6t-n0teBxC"
      }
    },
    {
      "cell_type": "markdown",
      "source": [
        "### 廣度優先遍歷 (BFS)"
      ],
      "metadata": {
        "id": "jD83CMCyeX31"
      }
    },
    {
      "cell_type": "code",
      "source": [
        "class Graph:\n",
        "\n",
        "  def __init__(self):\n",
        "    self.numberofnodes = 0\n",
        "    self.adjacentlist = {}\n",
        "\n",
        "  def __str__(self):\n",
        "    return str(self.__dict__)\n",
        "\n",
        "  def addVertex(self,node):\n",
        "    self.adjacentlist[node] = []\n",
        "    self.numberofnodes += 1\n",
        "\n",
        "  def addEdge(self,node1,node2):\n",
        "    self.adjacentlist[node1].append(node2)\n",
        "    self.adjacentlist[node2].append(node1)\n",
        "\n",
        "  def showConnection(self):\n",
        "    for vertex, neighbors in self.adjacentlist.items():\n",
        "      print(vertex, end = '-->')\n",
        "      print(' '.join(neighbors))\n",
        "\n",
        "  def bfs(self, start):\n",
        "    if start not in self.adjacentlist:\n",
        "      return\n",
        "\n",
        "    visited = []\n",
        "    queue = [start]\n",
        "\n",
        "    while len(queue)> 0:\n",
        "      node = queue.pop(0)\n",
        "      if node not in visited:\n",
        "        visited.append(node)\n",
        "\n",
        "        for neighbor in self.adjacentlist[node]:\n",
        "          if neighbor not in visited:\n",
        "            queue.append(neighbor)\n",
        "\n",
        "    return visited\n",
        "\n",
        "  def bfs_recursive(self, queue, visited=None):\n",
        "    if visited is None:\n",
        "      visited = []\n",
        "\n",
        "    # 若佇列為空，結束\n",
        "    if not queue:\n",
        "      return visited\n",
        "\n",
        "    current = queue.pop(0)\n",
        "    if current not in visited:\n",
        "      visited.append(current)\n",
        "      # 找出下一層節點，加入佇列\n",
        "      for neighbor in self.adjacentlist[current]:\n",
        "        if neighbor not in visited and neighbor not in queue:\n",
        "          queue.append(neighbor)\n",
        "\n",
        "    # 遞迴處理下一層\n",
        "    return self.bfs_recursive(queue, visited)\n",
        "\n",
        "  def dfs(self, start):\n",
        "      visited = []\n",
        "      stack = [start]   # 用堆疊模擬遞迴\n",
        "\n",
        "      while stack:\n",
        "        node = stack.pop()\n",
        "        if node not in visited:\n",
        "          visited.append(node)\n",
        "\n",
        "          for neighbor in reversed(self.adjacentlist[node]):\n",
        "            if neighbor not in visited:\n",
        "              stack.append(neighbor)\n",
        "      return visited\n",
        "\n",
        "  def dfs_preorder(self, start, visited=None):\n",
        "    if visited is None:\n",
        "      visited = []\n",
        "\n",
        "    visited.append(start)\n",
        "\n",
        "    for neighbor in self.adjacentlist[start]:\n",
        "      if neighbor not in visited:\n",
        "        self.dfs_preorder(neighbor, visited)\n",
        "    return visited\n",
        "\n",
        "  def dfs_postorder(self, start, visited=None):\n",
        "    if visited is None:\n",
        "        visited = []\n",
        "\n",
        "    for neighbor in self.adjacentlist[start]:\n",
        "        if neighbor not in visited:\n",
        "            self.dfs_postorder(neighbor, visited)\n",
        "\n",
        "    visited.append(start)  # <-- 改到最後\n",
        "    return visited\n",
        "\n",
        "\n",
        "\n",
        "  def dfs2(self, start):\n",
        "    dist = {node: -1 for node in self.adjacentlist}\n",
        "    print(dist)\n",
        "\n",
        "myGraph = Graph()\n",
        "myGraph.addVertex('1')\n",
        "myGraph.addVertex('2')\n",
        "myGraph.addVertex('3')\n",
        "myGraph.addVertex('4')\n",
        "myGraph.addVertex('5')\n",
        "myGraph.addVertex('6')\n",
        "myGraph.addEdge('1', '2')\n",
        "myGraph.addEdge('1', '3')\n",
        "myGraph.addEdge('3', '4')\n",
        "myGraph.addEdge('3', '5')\n",
        "myGraph.addEdge('4', '6')\n",
        "dd = myGraph.dfs2(\"3\")\n",
        "print(dd)\n",
        "#myGraph.showConnection()"
      ],
      "metadata": {
        "colab": {
          "base_uri": "https://localhost:8080/"
        },
        "id": "2T2-KX1AVt0S",
        "outputId": "455688c6-ad85-4fe2-9e26-249995eb8ea7"
      },
      "execution_count": null,
      "outputs": [
        {
          "output_type": "stream",
          "name": "stdout",
          "text": [
            "{'1': -1, '2': -1, '3': -1, '4': -1, '5': -1, '6': -1}\n",
            "None\n"
          ]
        }
      ]
    },
    {
      "cell_type": "code",
      "source": [
        "function traverse(node) {\n",
        "    const tree = { value: node.value };\n",
        "    tree.left = node.left === null ? null : traverse(node.left);\n",
        "    tree.right = node.right === null ? null : traverse(node.right);\n",
        "    return tree;\n",
        "  }"
      ],
      "metadata": {
        "id": "DzN1Vue5Whdt"
      },
      "execution_count": null,
      "outputs": []
    }
  ]
}